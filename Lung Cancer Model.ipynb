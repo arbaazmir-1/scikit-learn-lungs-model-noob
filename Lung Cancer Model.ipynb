{
 "cells": [
  {
   "cell_type": "code",
   "execution_count": 74,
   "id": "c54ce5d2-7ffb-469c-8e3b-3e24ac8e0566",
   "metadata": {},
   "outputs": [],
   "source": [
    "# Importing \n",
    "import numpy as np\n",
    "import pandas as pd\n",
    "import matplotlib.pyplot as plt\n",
    "%matplotlib inline\n",
    "import sklearn\n",
    "import seaborn as sns\n",
    "import pickle "
   ]
  },
  {
   "cell_type": "code",
   "execution_count": 28,
   "id": "20a0a7ba-ed49-4d3a-8835-27c6914fba0b",
   "metadata": {},
   "outputs": [
    {
     "data": {
      "text/html": [
       "<div>\n",
       "<style scoped>\n",
       "    .dataframe tbody tr th:only-of-type {\n",
       "        vertical-align: middle;\n",
       "    }\n",
       "\n",
       "    .dataframe tbody tr th {\n",
       "        vertical-align: top;\n",
       "    }\n",
       "\n",
       "    .dataframe thead th {\n",
       "        text-align: right;\n",
       "    }\n",
       "</style>\n",
       "<table border=\"1\" class=\"dataframe\">\n",
       "  <thead>\n",
       "    <tr style=\"text-align: right;\">\n",
       "      <th></th>\n",
       "      <th>GENDER</th>\n",
       "      <th>AGE</th>\n",
       "      <th>SMOKING</th>\n",
       "      <th>YELLOW_FINGERS</th>\n",
       "      <th>ANXIETY</th>\n",
       "      <th>PEER_PRESSURE</th>\n",
       "      <th>CHRONIC DISEASE</th>\n",
       "      <th>FATIGUE</th>\n",
       "      <th>ALLERGY</th>\n",
       "      <th>WHEEZING</th>\n",
       "      <th>ALCOHOL CONSUMING</th>\n",
       "      <th>COUGHING</th>\n",
       "      <th>SHORTNESS OF BREATH</th>\n",
       "      <th>SWALLOWING DIFFICULTY</th>\n",
       "      <th>CHEST PAIN</th>\n",
       "      <th>LUNG_CANCER</th>\n",
       "    </tr>\n",
       "  </thead>\n",
       "  <tbody>\n",
       "    <tr>\n",
       "      <th>0</th>\n",
       "      <td>M</td>\n",
       "      <td>69</td>\n",
       "      <td>1</td>\n",
       "      <td>2</td>\n",
       "      <td>2</td>\n",
       "      <td>1</td>\n",
       "      <td>1</td>\n",
       "      <td>2</td>\n",
       "      <td>1</td>\n",
       "      <td>2</td>\n",
       "      <td>2</td>\n",
       "      <td>2</td>\n",
       "      <td>2</td>\n",
       "      <td>2</td>\n",
       "      <td>2</td>\n",
       "      <td>YES</td>\n",
       "    </tr>\n",
       "    <tr>\n",
       "      <th>1</th>\n",
       "      <td>M</td>\n",
       "      <td>74</td>\n",
       "      <td>2</td>\n",
       "      <td>1</td>\n",
       "      <td>1</td>\n",
       "      <td>1</td>\n",
       "      <td>2</td>\n",
       "      <td>2</td>\n",
       "      <td>2</td>\n",
       "      <td>1</td>\n",
       "      <td>1</td>\n",
       "      <td>1</td>\n",
       "      <td>2</td>\n",
       "      <td>2</td>\n",
       "      <td>2</td>\n",
       "      <td>YES</td>\n",
       "    </tr>\n",
       "    <tr>\n",
       "      <th>2</th>\n",
       "      <td>F</td>\n",
       "      <td>59</td>\n",
       "      <td>1</td>\n",
       "      <td>1</td>\n",
       "      <td>1</td>\n",
       "      <td>2</td>\n",
       "      <td>1</td>\n",
       "      <td>2</td>\n",
       "      <td>1</td>\n",
       "      <td>2</td>\n",
       "      <td>1</td>\n",
       "      <td>2</td>\n",
       "      <td>2</td>\n",
       "      <td>1</td>\n",
       "      <td>2</td>\n",
       "      <td>NO</td>\n",
       "    </tr>\n",
       "    <tr>\n",
       "      <th>3</th>\n",
       "      <td>M</td>\n",
       "      <td>63</td>\n",
       "      <td>2</td>\n",
       "      <td>2</td>\n",
       "      <td>2</td>\n",
       "      <td>1</td>\n",
       "      <td>1</td>\n",
       "      <td>1</td>\n",
       "      <td>1</td>\n",
       "      <td>1</td>\n",
       "      <td>2</td>\n",
       "      <td>1</td>\n",
       "      <td>1</td>\n",
       "      <td>2</td>\n",
       "      <td>2</td>\n",
       "      <td>NO</td>\n",
       "    </tr>\n",
       "    <tr>\n",
       "      <th>4</th>\n",
       "      <td>F</td>\n",
       "      <td>63</td>\n",
       "      <td>1</td>\n",
       "      <td>2</td>\n",
       "      <td>1</td>\n",
       "      <td>1</td>\n",
       "      <td>1</td>\n",
       "      <td>1</td>\n",
       "      <td>1</td>\n",
       "      <td>2</td>\n",
       "      <td>1</td>\n",
       "      <td>2</td>\n",
       "      <td>2</td>\n",
       "      <td>1</td>\n",
       "      <td>1</td>\n",
       "      <td>NO</td>\n",
       "    </tr>\n",
       "  </tbody>\n",
       "</table>\n",
       "</div>"
      ],
      "text/plain": [
       "  GENDER  AGE  SMOKING  YELLOW_FINGERS  ANXIETY  PEER_PRESSURE  \\\n",
       "0      M   69        1               2        2              1   \n",
       "1      M   74        2               1        1              1   \n",
       "2      F   59        1               1        1              2   \n",
       "3      M   63        2               2        2              1   \n",
       "4      F   63        1               2        1              1   \n",
       "\n",
       "   CHRONIC DISEASE  FATIGUE   ALLERGY   WHEEZING  ALCOHOL CONSUMING  COUGHING  \\\n",
       "0                1         2         1         2                  2         2   \n",
       "1                2         2         2         1                  1         1   \n",
       "2                1         2         1         2                  1         2   \n",
       "3                1         1         1         1                  2         1   \n",
       "4                1         1         1         2                  1         2   \n",
       "\n",
       "   SHORTNESS OF BREATH  SWALLOWING DIFFICULTY  CHEST PAIN LUNG_CANCER  \n",
       "0                    2                      2           2         YES  \n",
       "1                    2                      2           2         YES  \n",
       "2                    2                      1           2          NO  \n",
       "3                    1                      2           2          NO  \n",
       "4                    2                      1           1          NO  "
      ]
     },
     "execution_count": 28,
     "metadata": {},
     "output_type": "execute_result"
    }
   ],
   "source": [
    "#Importing csv and reading it\n",
    "lung_cancer = pd.read_csv(\"data/lung_cancer.csv\")\n",
    "lung_cancer.head()"
   ]
  },
  {
   "cell_type": "code",
   "execution_count": 29,
   "id": "e11dde36-ccb5-47aa-921a-5d5cc8ae324e",
   "metadata": {},
   "outputs": [
    {
     "name": "stdout",
     "output_type": "stream",
     "text": [
      "Gender Type Values\n",
      "GENDER\n",
      "M    162\n",
      "F    147\n",
      "Name: count, dtype: int64 \n",
      "\n",
      "Age Type Values\n",
      "AGE\n",
      "64    20\n",
      "63    19\n",
      "56    19\n",
      "62    18\n",
      "60    17\n",
      "61    16\n",
      "59    15\n",
      "70    15\n",
      "67    13\n",
      "58    13\n",
      "69    11\n",
      "55    11\n",
      "72    10\n",
      "71    10\n",
      "68     9\n",
      "57     9\n",
      "77     9\n",
      "51     8\n",
      "54     8\n",
      "65     7\n",
      "74     6\n",
      "75     5\n",
      "76     4\n",
      "52     4\n",
      "53     4\n",
      "73     4\n",
      "47     4\n",
      "66     4\n",
      "49     3\n",
      "81     2\n",
      "78     2\n",
      "44     2\n",
      "48     2\n",
      "21     1\n",
      "79     1\n",
      "38     1\n",
      "39     1\n",
      "87     1\n",
      "46     1\n",
      "Name: count, dtype: int64 \n",
      "\n",
      "Smoking Type Values\n",
      "SMOKING\n",
      "2    174\n",
      "1    135\n",
      "Name: count, dtype: int64 \n",
      "\n",
      "YELLOW_FINGERS Type Values\n",
      "YELLOW_FINGERS\n",
      "2    176\n",
      "1    133\n",
      "Name: count, dtype: int64 \n",
      "\n",
      "ANXIETY Finger Type Values\n",
      "ANXIETY\n",
      "1    155\n",
      "2    154\n",
      "Name: count, dtype: int64 \n",
      "\n",
      "PEER_PRESSURE Type Values\n",
      "PEER_PRESSURE\n",
      "2    155\n",
      "1    154\n",
      "Name: count, dtype: int64 \n",
      "\n",
      "CHRONIC DISEASE Type Values\n",
      "CHRONIC DISEASE\n",
      "2    156\n",
      "1    153\n",
      "Name: count, dtype: int64 \n",
      "\n",
      "WHEEZING Type Values\n",
      "WHEEZING\n",
      "2    172\n",
      "1    137\n",
      "Name: count, dtype: int64 \n",
      "\n",
      "ALCOHOL CONSUMING Type Values\n",
      "ALCOHOL CONSUMING\n",
      "2    172\n",
      "1    137\n",
      "Name: count, dtype: int64 \n",
      "\n",
      "COUGHING Type Values\n",
      "COUGHING\n",
      "2    179\n",
      "1    130\n",
      "Name: count, dtype: int64 \n",
      "\n",
      "SHORTNESS OF BREATH Type Values\n",
      "SHORTNESS OF BREATH\n",
      "2    198\n",
      "1    111\n",
      "Name: count, dtype: int64 \n",
      "\n",
      "SWALLOWING DIFFICULTY Type Values\n",
      "SWALLOWING DIFFICULTY\n",
      "1    164\n",
      "2    145\n",
      "Name: count, dtype: int64 \n",
      "\n",
      "CHEST PAIN Type Values\n",
      "CHEST PAIN\n",
      "2    172\n",
      "1    137\n",
      "Name: count, dtype: int64 \n",
      "\n",
      "LUNG_CANCER Type Values\n",
      "LUNG_CANCER\n",
      "YES    270\n",
      "NO      39\n",
      "Name: count, dtype: int64 \n",
      "\n"
     ]
    }
   ],
   "source": [
    "#Obeserving the data for more accurate model\n",
    "print(\"Gender Type Values\")\n",
    "print(f'{lung_cancer[\"GENDER\"].value_counts()} \\n')\n",
    "\n",
    "print(\"Age Type Values\")\n",
    "print(f'{lung_cancer[\"AGE\"].value_counts()} \\n')\n",
    "\n",
    "print(\"Smoking Type Values\")\n",
    "print(f'{lung_cancer[\"SMOKING\"].value_counts()} \\n')\n",
    "\n",
    "print(\"YELLOW_FINGERS Type Values\")\n",
    "print(f'{lung_cancer[\"YELLOW_FINGERS\"].value_counts()} \\n')\n",
    "\n",
    "print(\"ANXIETY Finger Type Values\")\n",
    "print(f'{lung_cancer[\"ANXIETY\"].value_counts()} \\n')\n",
    "\n",
    "print(\"PEER_PRESSURE Type Values\")\n",
    "print(f'{lung_cancer[\"PEER_PRESSURE\"].value_counts()} \\n')\n",
    "\n",
    "print(\"CHRONIC DISEASE Type Values\")\n",
    "print(f'{lung_cancer[\"CHRONIC DISEASE\"].value_counts()} \\n')\n",
    "\n",
    "# print(\"FATIGUE Type Values\")\n",
    "# print(f'{lung_cancer[\"FATIGUE\"].value_counts()} \\n')\n",
    "\n",
    "# print(\"ALLERGY Type Values\")\n",
    "# print(f'{lung_cancer[\"ALLERGY\"].value_counts()} \\n')\n",
    "\n",
    "print(\"WHEEZING Type Values\")\n",
    "print(f'{lung_cancer[\"WHEEZING\"].value_counts()} \\n')\n",
    "\n",
    "print(\"ALCOHOL CONSUMING Type Values\")\n",
    "print(f'{lung_cancer[\"ALCOHOL CONSUMING\"].value_counts()} \\n')\n",
    "\n",
    "print(\"COUGHING Type Values\")\n",
    "print(f'{lung_cancer[\"COUGHING\"].value_counts()} \\n')\n",
    "\n",
    "print(\"SHORTNESS OF BREATH Type Values\")\n",
    "print(f'{lung_cancer[\"SHORTNESS OF BREATH\"].value_counts()} \\n')\n",
    "\n",
    "print(\"SWALLOWING DIFFICULTY Type Values\")\n",
    "print(f'{lung_cancer[\"SWALLOWING DIFFICULTY\"].value_counts()} \\n')\n",
    "\n",
    "print(\"CHEST PAIN Type Values\")\n",
    "print(f'{lung_cancer[\"CHEST PAIN\"].value_counts()} \\n')\n",
    "\n",
    "print(\"LUNG_CANCER Type Values\")\n",
    "print(f'{lung_cancer[\"LUNG_CANCER\"].value_counts()} \\n')\n",
    "\n",
    "\n",
    "\n",
    "\n"
   ]
  },
  {
   "cell_type": "code",
   "execution_count": 30,
   "id": "39e64d76-649b-42a3-b0ed-514601073dbd",
   "metadata": {},
   "outputs": [
    {
     "data": {
      "text/plain": [
       "GENDER                   0\n",
       "AGE                      0\n",
       "SMOKING                  0\n",
       "YELLOW_FINGERS           0\n",
       "ANXIETY                  0\n",
       "PEER_PRESSURE            0\n",
       "CHRONIC DISEASE          0\n",
       "FATIGUE                  0\n",
       "ALLERGY                  0\n",
       "WHEEZING                 0\n",
       "ALCOHOL CONSUMING        0\n",
       "COUGHING                 0\n",
       "SHORTNESS OF BREATH      0\n",
       "SWALLOWING DIFFICULTY    0\n",
       "CHEST PAIN               0\n",
       "LUNG_CANCER              0\n",
       "dtype: int64"
      ]
     },
     "execution_count": 30,
     "metadata": {},
     "output_type": "execute_result"
    }
   ],
   "source": [
    "#Checking for missing value\n",
    "lung_cancer.isna().sum()"
   ]
  },
  {
   "cell_type": "code",
   "execution_count": 60,
   "id": "e06fc439-ef12-4927-8841-1ce99d8a21f6",
   "metadata": {},
   "outputs": [],
   "source": [
    "#Seperating feature and label\n",
    "\n",
    "x= lung_cancer.drop(\"LUNG_CANCER\", axis=1)\n",
    "y_transformed = lung_cancer[\"LUNG_CANCER\"].map({\"YES\": 1,\"NO\": 0})"
   ]
  },
  {
   "cell_type": "code",
   "execution_count": 61,
   "id": "4373b044-5669-4172-9315-c54976ab2f12",
   "metadata": {},
   "outputs": [
    {
     "data": {
      "text/plain": [
       "<309x65 sparse matrix of type '<class 'numpy.float64'>'\n",
       "\twith 4635 stored elements in Compressed Sparse Row format>"
      ]
     },
     "execution_count": 61,
     "metadata": {},
     "output_type": "execute_result"
    }
   ],
   "source": [
    "# Turing columns to categorical to product better restuls\n",
    "from sklearn.preprocessing import OneHotEncoder\n",
    "from sklearn.compose import ColumnTransformer\n",
    "\n",
    "one_hot = OneHotEncoder()\n",
    "categorical_features_x = [\"GENDER\", \"AGE\", \"SMOKING\", \"YELLOW_FINGERS\", \"ANXIETY\", \"PEER_PRESSURE\", \"CHRONIC DISEASE\", \"WHEEZING\", \"ALCOHOL CONSUMING\", \"COUGHING\", \"SHORTNESS OF BREATH\", \"SWALLOWING DIFFICULTY\", \"CHEST PAIN\"]\n",
    "transformer_x = ColumnTransformer([(\"one_hot\", one_hot, categorical_features_x)], remainder=\"passthrough\")\n",
    "transformed_x = transformer_x.fit_transform(x)\n",
    "transformed_x\n",
    "\n",
    "\n"
   ]
  },
  {
   "cell_type": "code",
   "execution_count": 62,
   "id": "cdc906e3-f6b6-434e-abab-d958d3c32f39",
   "metadata": {},
   "outputs": [],
   "source": [
    "from sklearn.model_selection import train_test_split\n",
    "x_train, x_test, y_train, y_test = train_test_split(transformed_x,y_transformed,test_size=0.2)"
   ]
  },
  {
   "cell_type": "code",
   "execution_count": 63,
   "id": "97c58928-9511-414c-af7e-638c940ded59",
   "metadata": {},
   "outputs": [
    {
     "data": {
      "text/plain": [
       "0.9354838709677419"
      ]
     },
     "execution_count": 63,
     "metadata": {},
     "output_type": "execute_result"
    }
   ],
   "source": [
    "# choosing the model and hyperparameters\n",
    "np.random.seed(42)\n",
    "from sklearn.ensemble import RandomForestClassifier\n",
    "model = RandomForestClassifier(n_estimators=100)\n",
    "# keeping the default params\n",
    "model.get_params()\n",
    "\n",
    "model.fit(x_train,y_train)\n",
    "model.score(x_test,y_test)\n"
   ]
  },
  {
   "cell_type": "code",
   "execution_count": 64,
   "id": "5b2c6555-7522-4bd0-ad29-345363157964",
   "metadata": {},
   "outputs": [],
   "source": [
    "y_preds = model.predict(x_test)"
   ]
  },
  {
   "cell_type": "code",
   "execution_count": 65,
   "id": "f45dc05e-9a49-4bb5-a322-7cf6d4a8f3d0",
   "metadata": {},
   "outputs": [],
   "source": [
    "from sklearn.metrics import classification_report,confusion_matrix,accuracy_score"
   ]
  },
  {
   "cell_type": "code",
   "execution_count": 66,
   "id": "b0e5a62b-50b4-4523-bf14-8fa99d2ab0ea",
   "metadata": {},
   "outputs": [
    {
     "name": "stdout",
     "output_type": "stream",
     "text": [
      "              precision    recall  f1-score   support\n",
      "\n",
      "           0       0.71      0.71      0.71         7\n",
      "           1       0.96      0.96      0.96        55\n",
      "\n",
      "    accuracy                           0.94        62\n",
      "   macro avg       0.84      0.84      0.84        62\n",
      "weighted avg       0.94      0.94      0.94        62\n",
      "\n"
     ]
    }
   ],
   "source": [
    "print(classification_report(y_test,y_preds))"
   ]
  },
  {
   "cell_type": "code",
   "execution_count": 67,
   "id": "41819bdd-65f5-4d02-b342-3f2aa4e5ee20",
   "metadata": {},
   "outputs": [
    {
     "data": {
      "text/plain": [
       "array([[ 5,  2],\n",
       "       [ 2, 53]])"
      ]
     },
     "execution_count": 67,
     "metadata": {},
     "output_type": "execute_result"
    }
   ],
   "source": [
    "confusion_matrix(y_test,y_preds)"
   ]
  },
  {
   "cell_type": "code",
   "execution_count": 68,
   "id": "0620ab59-6d1e-4e1f-ab78-935e44beaaad",
   "metadata": {},
   "outputs": [
    {
     "data": {
      "text/plain": [
       "0.9354838709677419"
      ]
     },
     "execution_count": 68,
     "metadata": {},
     "output_type": "execute_result"
    }
   ],
   "source": [
    "accuracy_score(y_test,y_preds)"
   ]
  },
  {
   "cell_type": "code",
   "execution_count": 69,
   "id": "09275d6c-059d-482a-ac91-352189235a25",
   "metadata": {},
   "outputs": [
    {
     "name": "stdout",
     "output_type": "stream",
     "text": [
      "              precision    recall  f1-score   support\n",
      "\n",
      "           0       0.71      0.71      0.71         7\n",
      "           1       0.96      0.96      0.96        55\n",
      "\n",
      "    accuracy                           0.94        62\n",
      "   macro avg       0.84      0.84      0.84        62\n",
      "weighted avg       0.94      0.94      0.94        62\n",
      "\n"
     ]
    },
    {
     "data": {
      "image/png": "[encoded data removed]",
      "text/plain": [
       "<Figure size 300x300 with 1 Axes>"
      ]
     },
     "metadata": {},
     "output_type": "display_data"
    }
   ],
   "source": [
    "sns.set_theme(font_scale=1.5)\n",
    "def plot_confusion_matrix(y_test, y_preds):\n",
    "    fig, ax = plt.subplots(figsize=(3,3))\n",
    "    ax = sns.heatmap(confusion_matrix(y_test, y_preds),\n",
    "                    annot=True,\n",
    "                    cbar=False)\n",
    "    plt.xlabel(\"Predicted label\") # predictions go on the x-axis\n",
    "    plt.ylabel(\"True label\") # true labels go on the y-axis \n",
    "    \n",
    "plot_confusion_matrix(y_test, y_preds)\n",
    "print(classification_report(y_test, y_preds))"
   ]
  },
  {
   "cell_type": "code",
   "execution_count": 73,
   "id": "1d1b0250-ce7c-4963-8561-7aaf82b88a1b",
   "metadata": {},
   "outputs": [
    {
     "name": "stdout",
     "output_type": "stream",
     "text": [
      "    Actual Values  Predictions\n",
      "0               1            1\n",
      "1               1            1\n",
      "2               1            1\n",
      "3               0            0\n",
      "4               1            1\n",
      "5               1            1\n",
      "6               1            1\n",
      "7               1            1\n",
      "8               1            1\n",
      "9               1            1\n",
      "10              1            0\n",
      "11              1            1\n",
      "12              0            0\n",
      "13              1            1\n",
      "14              1            1\n",
      "15              1            1\n",
      "16              1            1\n",
      "17              1            1\n",
      "18              1            1\n",
      "19              1            1\n",
      "20              1            1\n",
      "21              1            1\n",
      "22              1            1\n",
      "23              1            1\n",
      "24              1            1\n",
      "25              1            1\n",
      "26              1            1\n",
      "27              1            1\n",
      "28              1            0\n",
      "29              1            1\n",
      "30              1            1\n",
      "31              1            1\n",
      "32              1            1\n",
      "33              1            1\n",
      "34              1            1\n",
      "35              1            1\n",
      "36              1            1\n",
      "37              0            1\n",
      "38              1            1\n",
      "39              1            1\n",
      "40              0            0\n",
      "41              1            1\n",
      "42              0            0\n",
      "43              1            1\n",
      "44              1            1\n",
      "45              1            1\n",
      "46              1            1\n",
      "47              1            1\n",
      "48              1            1\n",
      "49              1            1\n",
      "50              1            1\n",
      "51              1            1\n",
      "52              0            0\n",
      "53              1            1\n",
      "54              1            1\n",
      "55              1            1\n",
      "56              1            1\n",
      "57              0            1\n",
      "58              1            1\n",
      "59              1            1\n",
      "60              1            1\n",
      "61              1            1\n"
     ]
    }
   ],
   "source": [
    "y_preds = model.predict(x_test)\n",
    "array1 = np.array(y_test)\n",
    "array2 = np.array(y_preds)\n",
    "# Convert the arrays to Pandas Series to plot a table for y_test array\n",
    "series1 = pd.Series(array1, name=\"Actual Values\")\n",
    "# Convert the arrays to Pandas Series to plot a table for y_preds array\n",
    "series2 = pd.Series(array2, name=\"Predictions\")\n",
    "# Combine the Series into a single DataFrame\n",
    "df = pd.concat([series1, series2], axis=1)\n",
    "# Set the Pandas display options to show all rows and columns without truncation\n",
    "pd.set_option(\"display.max_rows\", None)\n",
    "pd.set_option(\"display.max_columns\", None)\n",
    "\n",
    "print(df)\n"
   ]
  },
  {
   "cell_type": "code",
   "execution_count": 75,
   "id": "b8f96d71-fdeb-4405-b56c-6f24d4e9eb8e",
   "metadata": {},
   "outputs": [],
   "source": [
    "pickle.dump(model,open(\"lungs_model_forst_model_1.pkl\",\"wb\"))"
   ]
  },
  {
   "cell_type": "code",
   "execution_count": null,
   "id": "087474f4-c899-4d32-8c38-6e4f16773b4e",
   "metadata": {},
   "outputs": [],
   "source": []
  }
 ],
 "metadata": {
  "kernelspec": {
   "display_name": "Python 3 (ipykernel)",
   "language": "python",
   "name": "python3"
  },
  "language_info": {
   "codemirror_mode": {
    "name": "ipython",
    "version": 3
   },
   "file_extension": ".py",
   "mimetype": "text/x-python",
   "name": "python",
   "nbconvert_exporter": "python",
   "pygments_lexer": "ipython3",
   "version": "3.10.13"
  }
 },
 "nbformat": 4,
 "nbformat_minor": 5
}
